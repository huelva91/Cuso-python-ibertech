{
 "cells": [
  {
   "cell_type": "markdown",
   "metadata": {},
   "source": [
    "## Ejercicio5. Funciones Lambda"
   ]
  },
  {
   "cell_type": "markdown",
   "metadata": {},
   "source": [
    "A partir del siguiente listado de emails:\n",
    "lista_emails = [\"asdasdas.es\",\"asdas asdsdsa@sda.e\",\"asdasd@asdas@asdsad.es\", \"asdad@a.es\", \"a sgsdfsd@a.esfa.sfasdf\", \"asdas.dasd@as.dsfd.as.es \"]\n",
    "- obtener, los nombres de usuario de aquellos emails que sean validos (valido: 1@, no tiene espacios en blanco, despues de la @ hay 1 punto)\n",
    "- indicar el número de emails validos que hay dentro del listado\n"
   ]
  },
  {
   "cell_type": "code",
   "execution_count": 73,
   "metadata": {},
   "outputs": [
    {
     "name": "stdout",
     "output_type": "stream",
     "text": [
      "['asdasd@asdas@asdsad.es']\n",
      "Esto son los usuarios ['asdasdas.es', 'asdas asdsdsa@sda.e', 'asdasd@asdas@asdsad.es', 'asdad@a.es', 'a sgsdfsd@a.esfa.sfasdf', 'asdas.dasd@as.dsfd.as.es ']\n",
      "[1]\n"
     ]
    }
   ],
   "source": [
    "lista_emails = [\"asdasdas.es\",\"asdas asdsdsa@sda.e\",\"asdasd@asdas@asdsad.es\", \"asdad@a.es\", \"a sgsdfsd@a.esfa.sfasdf\", \"asdas.dasd@as.dsfd.as.es \"]\n",
    "emails_validos = \"\"\n",
    "emails_validos = list(filter(lambda x: \"@\" in x , lista_emails ))\n",
    "emails_validos = list(filter(lambda x: \" \" not in x, lista_emails ))\n",
    "emails_validos = list(filter(lambda x: x.count(\"@\") > 1, lista_emails ))\n",
    "usuarios = list(filter(lambda x: x.split(\"@\") , lista_emails ))\n",
    "print(emails_validos)\n",
    "print(\"Esto son los usuarios {}\".format(usuarios))\n",
    "numero_emails_validos = list(map(lambda x: x.count(x), emails_validos))\n",
    "print(numero_emails_validos)"
   ]
  }
 ],
 "metadata": {
  "kernelspec": {
   "display_name": "Python 3.11.0 64-bit (microsoft store)",
   "language": "python",
   "name": "python3"
  },
  "language_info": {
   "codemirror_mode": {
    "name": "ipython",
    "version": 3
   },
   "file_extension": ".py",
   "mimetype": "text/x-python",
   "name": "python",
   "nbconvert_exporter": "python",
   "pygments_lexer": "ipython3",
   "version": "3.11.0"
  },
  "vscode": {
   "interpreter": {
    "hash": "96dd87472ea2a999c6f7eb7d09088df7c24f815d5469d517dbef65cdd4e28906"
   }
  }
 },
 "nbformat": 4,
 "nbformat_minor": 4
}
