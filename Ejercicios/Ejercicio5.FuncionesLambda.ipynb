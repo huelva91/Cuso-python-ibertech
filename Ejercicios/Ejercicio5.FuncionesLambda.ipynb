{
 "cells": [
  {
   "cell_type": "markdown",
   "metadata": {},
   "source": [
    "## Ejercicio5. Funciones Lambda"
   ]
  },
  {
   "cell_type": "markdown",
   "metadata": {},
   "source": [
    "A partir del siguiente listado de emails:\n",
    "lista_emails = [\"asdasdas.es\",\"asdas asdsdsa@sda.e\",\"asdasd@asdas@asdsad.es\", \"asdad@a.es\", \"a sgsdfsd@a.esfa.sfasdf\", \"asdas.dasd@as.dsfd.as.es \"]\n",
    "- obtener, los nombres de usuario de aquellos emails que sean validos (valido: 1@, no tiene espacios en blanco, despues de la @ hay 1 punto)\n",
    "- indicar el número de emails validos que hay dentro del listado\n"
   ]
  },
  {
   "cell_type": "code",
   "execution_count": 11,
   "metadata": {},
   "outputs": [
    {
     "name": "stdout",
     "output_type": "stream",
     "text": [
      "Esto son los emails validos ['asdad@a.es', 'asdas.dasd@as.dsfd.as.es ', 'asdad@a.es']\n",
      "Esto son los usuarios ['asdad', 'asdas.dasd', 'asdad']\n",
      "3\n",
      "Numero de usuarios con reduce: 3\n"
     ]
    }
   ],
   "source": [
    "lista_emails = [\"asdasdas.es\",\"asdas asdsdsa@sda.e\",\"asdasd@asdas@asdsad.es\", \"asdad@a.es\", \"a sgsdfsd@a.esfa.sfasdf\", \"asdas.dasd@as.dsfd.as.es \" , \"asdad@a.es\"]\n",
    "emails_validos = \"\"\n",
    "#emails_validos = list(filter(lambda x: \"@\" in x , lista_emails ))\n",
    "#emails_validos = list(filter(lambda x: \" \" not in x, lista_emails ))\n",
    "#emails_validos = list(filter(lambda x: x.count(\"@\") > 1, lista_emails ))\n",
    "emails_validos = list(filter(lambda email: email.count(\"@\") == 1 and not \" \" in email.strip() and email.split(\"@\")[-1].count(\".\") >= 1 , lista_emails ))\n",
    "\n",
    "print(\"Esto son los emails validos {}\".format(emails_validos))\n",
    "\n",
    "usuarios = list(map(lambda email: email.split(\"@\")[0] , emails_validos ))\n",
    "print(\"Esto son los usuarios {}\".format(usuarios))\n",
    "numero_emails_validos = len(usuarios)\n",
    "print(numero_emails_validos)\n",
    "\n",
    "from functools import reduce\n",
    "print(\"Numero de usuarios con reduce:\", str(reduce(lambda u1, u2 : u1 +1 , usuarios, 0 )))"
   ]
  }
 ],
 "metadata": {
  "kernelspec": {
   "display_name": "Python 3.11.0 64-bit (microsoft store)",
   "language": "python",
   "name": "python3"
  },
  "language_info": {
   "codemirror_mode": {
    "name": "ipython",
    "version": 3
   },
   "file_extension": ".py",
   "mimetype": "text/x-python",
   "name": "python",
   "nbconvert_exporter": "python",
   "pygments_lexer": "ipython3",
   "version": "3.11.0"
  },
  "vscode": {
   "interpreter": {
    "hash": "96dd87472ea2a999c6f7eb7d09088df7c24f815d5469d517dbef65cdd4e28906"
   }
  }
 },
 "nbformat": 4,
 "nbformat_minor": 4
}
