{
 "cells": [
  {
   "cell_type": "markdown",
   "metadata": {},
   "source": [
    "# Ejercicio 6. Programacion Orientada Objetos"
   ]
  },
  {
   "cell_type": "markdown",
   "metadata": {},
   "source": [
    "**Crear la clase Alumno**  \n",
    "-nombre  \n",
    "-apellidos  \n",
    "-dni  \n",
    "-notas: diccionario <K:asignatura, V:nota>  \n",
    "estudiar() --> el alumno \"nombre\" esta estudiando \"asignatura obtenida de manera aleatoria del diccionario\"  \n",
    "    \n",
    "**Funcionalidad**    \n",
    "3 alumnos --> lista -->  \n",
    "    +Nota media de cada alumno --> El alumno <nombre> tiene una nota media de ...  \n",
    "    +Nota media de todos los alumnos --> La nota media de todos los alumnos es ...\n",
    "   \n",
    "Tradicional y usando funciones lambda\n"
   ]
  },
  {
   "cell_type": "code",
   "execution_count": 4,
   "metadata": {},
   "outputs": [
    {
     "name": "stdout",
     "output_type": "stream",
     "text": [
      "El alumno Juan esta estudiando Matematicas\n"
     ]
    }
   ],
   "source": [
    "notas = {\"Matematicas\": {}, \"Ingles\" : {}, \"Tecnologia\" : {} }\n",
    "class Alumno:\n",
    "    def __init__(self, nombre, apellidos, dni, notas) :\n",
    "        self.nombre = nombre\n",
    "        self.apelllidos = apellidos\n",
    "        self.dni = dni\n",
    "        self.notas = notas\n",
    "\n",
    "    def estudiar(self, nombre, asignatura):\n",
    "        print(\"El alumno {} esta estudiando {}\".format(nombre,asignatura))\n",
    "\n",
    "asignaturas = {\"Lengua\" : 7, \"Fisica\" : 4 , \"Tecnologia\" : 8}   \n",
    "alumno1 = Alumno(\"Juan\", \"Tamariz Gomez\", \"1234556A\", 1 )\n",
    "alumno2 = Alumno(\"Rocio\", \"Martin Perez\", \"4455566B\", 1)\n",
    "alumno3 = Alumno(\"Manuel\", \"Gonzales Bando\", \"3344562C\", 1)\n",
    "\n",
    "alumno1.estudiar(alumno1.nombre , \"Matematicas\")"
   ]
  }
 ],
 "metadata": {
  "kernelspec": {
   "display_name": "Python 3.11.0 64-bit (microsoft store)",
   "language": "python",
   "name": "python3"
  },
  "language_info": {
   "codemirror_mode": {
    "name": "ipython",
    "version": 3
   },
   "file_extension": ".py",
   "mimetype": "text/x-python",
   "name": "python",
   "nbconvert_exporter": "python",
   "pygments_lexer": "ipython3",
   "version": "3.11.0"
  },
  "vscode": {
   "interpreter": {
    "hash": "96dd87472ea2a999c6f7eb7d09088df7c24f815d5469d517dbef65cdd4e28906"
   }
  }
 },
 "nbformat": 4,
 "nbformat_minor": 4
}
