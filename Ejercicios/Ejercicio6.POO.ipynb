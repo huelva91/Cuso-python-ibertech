{
 "cells": [
  {
   "cell_type": "markdown",
   "metadata": {},
   "source": [
    "# Ejercicio 6. Programacion Orientada Objetos"
   ]
  },
  {
   "cell_type": "markdown",
   "metadata": {},
   "source": [
    "**Crear la clase Alumno**  \n",
    "-nombre  \n",
    "-apellidos  \n",
    "-dni  \n",
    "-notas: diccionario <K:asignatura, V:nota>  \n",
    "estudiar() --> el alumno \"nombre\" esta estudiando \"asignatura obtenida de manera aleatoria del diccionario\"  \n",
    "    \n",
    "**Funcionalidad**    \n",
    "3 alumnos --> lista -->  \n",
    "    +Nota media de cada alumno --> El alumno <nombre> tiene una nota media de ...  \n",
    "    +Nota media de todos los alumnos --> La nota media de todos los alumnos es ...\n",
    "   \n",
    "Tradicional y usando funciones lambda\n"
   ]
  },
  {
   "cell_type": "code",
   "execution_count": 34,
   "metadata": {},
   "outputs": [
    {
     "name": "stdout",
     "output_type": "stream",
     "text": [
      "8.0\n",
      "5.0\n",
      "6.333333333333333\n",
      "[<__main__.Alumno object at 0x000001DEE90ADAD0>, <__main__.Alumno object at 0x000001DEE90AD910>, <__main__.Alumno object at 0x000001DEE8FDBE90>]\n"
     ]
    }
   ],
   "source": [
    "import random\n",
    "\n",
    "#notas = {\"Matematicas\": {}, \"Ingles\" : {}, \"Tecnologia\" : {} }\n",
    "#notas = {\"Matematicas\": 7, \"Ingles\" : 8, \"Tecnologia\" : 9 }\n",
    "\n",
    "\n",
    "class Alumno:\n",
    "    def __init__(self, nombre, apellidos, dni, notas = {}) :\n",
    "        self.nombre = nombre\n",
    "        self.apelllidos = apellidos\n",
    "        self.dni = dni\n",
    "        self.notas = notas\n",
    "\n",
    "    def estudiar(self):\n",
    "        print(\"El alumno {} esta estudiando {}\".format(self.nombre, \"Mates\"))\n",
    "\n",
    "    def nota_media_alumno():\n",
    "        pass\n",
    "        \n",
    "        \n",
    "    def nota_media_alumnos():\n",
    "        pass\n",
    "        \n",
    "\n",
    "alumno1 = Alumno(\"Juan\", \"Tamariz Gomez\", \"1234556A\", {\"Matematicas\": 7, \"Ingles\" : 8, \"Tecnologia\" : 9 } )\n",
    "alumno2 = Alumno(\"Rocio\", \"Martin Perez\", \"4455566B\", {\"Matematicas\": 7, \"Ingles\" : 8, \"Tecnologia\" : 9 })\n",
    "alumno3 = Alumno(\"Manuel\", \"Gonzales Bando\", \"3344562C\", {\"Matematicas\": 7, \"Ingles\" : 8, \"Tecnologia\" : 9 })\n",
    "\n",
    "notas_asignatura_alumno1 = {\"Matematicas\": 7, \"Ingles\" : 8, \"Tecnologia\" : 9 }\n",
    "notas_asignatura_alumno2 = {\"Matematicas\": 3, \"Ingles\" : 5, \"Tecnologia\" : 7 }\n",
    "notas_asignatura_alumno3 = {\"Matematicas\": 4, \"Ingles\" : 8, \"Tecnologia\" : 7 }\n",
    "\n",
    "alumno1.notas = notas_asignatura_alumno1\n",
    "alumno2.notas = notas_asignatura_alumno2\n",
    "alumno3.notas = notas_asignatura_alumno3\n",
    "\n",
    "lista_alumnos = [alumno1, alumno2, alumno3]\n",
    "\n",
    "for alumno in lista_alumnos:\n",
    "    print( sum(list(alumno.notas.values())) / len(alumno.notas.values()))\n",
    "\n",
    "#print(lista_alumnos[0].notas.get(\"Matematicas\"))\n",
    "\n",
    "#alumno1.estudiar(alumno1.nombre)\n",
    "#alumno2.estudiar(alumno1.nombre )\n",
    "#alumno2.estudiar(alumno1.nombre )\n",
    "\n",
    "\n",
    "print(str(alumnos))\n"
   ]
  }
 ],
 "metadata": {
  "kernelspec": {
   "display_name": "Python 3.11.0 64-bit (microsoft store)",
   "language": "python",
   "name": "python3"
  },
  "language_info": {
   "codemirror_mode": {
    "name": "ipython",
    "version": 3
   },
   "file_extension": ".py",
   "mimetype": "text/x-python",
   "name": "python",
   "nbconvert_exporter": "python",
   "pygments_lexer": "ipython3",
   "version": "3.11.0"
  },
  "vscode": {
   "interpreter": {
    "hash": "96dd87472ea2a999c6f7eb7d09088df7c24f815d5469d517dbef65cdd4e28906"
   }
  }
 },
 "nbformat": 4,
 "nbformat_minor": 4
}
