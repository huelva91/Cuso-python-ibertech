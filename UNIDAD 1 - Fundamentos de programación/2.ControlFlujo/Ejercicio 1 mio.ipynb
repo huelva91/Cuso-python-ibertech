{
 "cells": [
  {
   "cell_type": "markdown",
   "id": "ffb91b6e-f57b-475d-b458-56dd34211436",
   "metadata": {},
   "source": [
    "## Ejercicio 1"
   ]
  },
  {
   "cell_type": "markdown",
   "id": "15c76f39-032d-435b-a766-9760121b97a5",
   "metadata": {},
   "source": [
    "Pintar menu mientras la opcion sea diferente de 4\n",
    "\n",
    "1. Pintar cuadrado --> \"Has seleccionado la opcion 1\"\n",
    "2. Validad email --> \"Has seleccionado la opcion 2\"\n",
    "3. Insertar alumnos --> \"Has seleccionado la opcion 3\"\n",
    "4. Salir --> \"Has seleccionado la opcion 4 Adios!\"\n",
    "\n",
    "Otra opcion incorrecta"
   ]
  },
  {
   "cell_type": "code",
   "execution_count": null,
   "id": "cc64e6b8-4653-42b3-869f-e860f3f6d8f1",
   "metadata": {},
   "outputs": [
    {
     "name": "stdout",
     "output_type": "stream",
     "text": [
      "Menu principal\n",
      "1. Pintar cuadrado  \n",
      "2. Validad email --> \"Has seleccionado la opcion 2\"\n",
      "3. Insertar alumnos --> \"Has seleccionado la opcion 3\"\n",
      "4. Salir --> \"Has seleccionado la opcion 4 Adios!\n"
     ]
    },
    {
     "name": "stdin",
     "output_type": "stream",
     "text": [
      "Introduzca la opcion 1\n"
     ]
    },
    {
     "name": "stdout",
     "output_type": "stream",
     "text": [
      " Has seleccionado la opcion 1 --> Pintar cuadrado\n"
     ]
    },
    {
     "name": "stdin",
     "output_type": "stream",
     "text": [
      "Introduzca el tamano del cuadrado 4\n"
     ]
    },
    {
     "name": "stdout",
     "output_type": "stream",
     "text": [
      "**** \n",
      "**** \n",
      "**** \n",
      "**** \n",
      "1. Pintar cuadrado  \n",
      "2. Validad email --> \"Has seleccionado la opcion 2\"\n",
      "3. Insertar alumnos --> \"Has seleccionado la opcion 3\"\n",
      "4. Salir --> \"Has seleccionado la opcion 4 Adios!\n"
     ]
    }
   ],
   "source": [
    "print(\"Menu principal\")\n",
    "opcion = 0\n",
    "while(not opcion==4):\n",
    "    print(\"\"\"1. Pintar cuadrado  \n",
    "2. Validad email --> \"Has seleccionado la opcion 2\"\n",
    "3. Insertar alumnos --> \"Has seleccionado la opcion 3\"\n",
    "4. Salir --> \"Has seleccionado la opcion 4 Adios!\"\"\")\n",
    "    opcion = int(input(\"Introduzca la opcion\"))\n",
    "    if opcion == 1:\n",
    "        print(\" Has seleccionado la opcion 1 --> Pintar cuadrado\")\n",
    "        \n",
    "         caracter = \"*\"\n",
    "        print(\"Pintar cuadrado\")\n",
    "        base = int(input(\"Introduzca el tamano del cuadrado\"))\n",
    "        for linea in range(base):\n",
    "            if(linea == 0 or linea == base - 1):\n",
    "                print(base * caracter)  \n",
    "            else:\n",
    "                print(caracter, end=\"\")\n",
    "                cadena = \" \" *(base - 2)\n",
    "                print(cadena, end=\"\") \n",
    "                print(caracter)   \n",
    "            \n",
    "    elif opcion == 2:\n",
    "        print(\" Has seleccionado la opcion 2 --> Validar email\")\n",
    "    elif opcion == 3:\n",
    "        print(\"Insertar alumno\")\n",
    "    elif opcion == 4:\n",
    "        print(\"Has seleccionado la opcion 4, Adios\")\n",
    "    else:\n",
    "        print(\"Opcion incorrecta\")"
   ]
  },
  {
   "cell_type": "code",
   "execution_count": null,
   "id": "e95711de-e5b6-4e33-a6b2-009fd8f88cb5",
   "metadata": {},
   "outputs": [],
   "source": [
    "caracter = \"*\"\n",
    "altura = 4\n",
    "base = 4\n",
    "linea_superio_inferior = caracter+\" \" \n",
    "print(\"Pintar cuadrado\")\n",
    "base = int(input(\"Introduzca el tamano del cuadrado\"))\n",
    "for linea in range(base):\n",
    "    if(linea == 0 or linea == base - 1):\n",
    "        print(base * caracter)  \n",
    "    else:\n",
    "        print(caracter, end=\"\")\n",
    "        cadena = \" \" *(base - 2)\n",
    "        print(cadena, end=\"\") \n",
    "        print(caracter)   "
   ]
  }
 ],
 "metadata": {
  "kernelspec": {
   "display_name": "Python 3 (ipykernel)",
   "language": "python",
   "name": "python3"
  },
  "language_info": {
   "codemirror_mode": {
    "name": "ipython",
    "version": 3
   },
   "file_extension": ".py",
   "mimetype": "text/x-python",
   "name": "python",
   "nbconvert_exporter": "python",
   "pygments_lexer": "ipython3",
   "version": "3.9.13"
  }
 },
 "nbformat": 4,
 "nbformat_minor": 5
}
