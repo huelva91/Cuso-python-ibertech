{
 "cells": [
  {
   "cell_type": "markdown",
   "id": "5e02931f-3f96-47cc-a591-798a3356c6b6",
   "metadata": {},
   "source": [
    "## Ejercicio 4. Colecciones Colegio\n",
    "Colegio 3 aulas\n",
    "\n",
    "1. Insertar alumno --> En que aula quieres meter al alumno (1,2,3) --> DNI, Nombre, Apellidos\n",
    "2. Mostrar alunmnos colegio --> Todos los alumnos del colegio por aula.\n",
    "3. Mostrar alumnos aula --> De que aula quiere mostrar los alumnos (1,2,3)\n",
    "4. Buscar alunmo --> Pregunta DNI --> En que aula se encuentra el alumno ese DNI\n",
    "5. Salir"
   ]
  },
  {
   "cell_type": "code",
   "execution_count": 5,
   "id": "989603c1-7435-4a7d-b605-4ff2261c47ff",
   "metadata": {},
   "outputs": [
    {
     "name": "stdout",
     "output_type": "stream",
     "text": [
      "1. Insertar alumno\n",
      "2. Mostrar alunmnos colegio\n",
      "3. Mostrar alumnos aula\n",
      "4. Buscar alunmo\n",
      "5. Salir\n"
     ]
    },
    {
     "name": "stdin",
     "output_type": "stream",
     "text": [
      "\n",
      "Seleccione una opcion 5\n"
     ]
    },
    {
     "name": "stdout",
     "output_type": "stream",
     "text": [
      "4. Adios!!!\n"
     ]
    }
   ],
   "source": [
    "opcion = 0\n",
    "while (not opcion==5):\n",
    "    print(\"1. Insertar alumno\")\n",
    "    print(\"2. Mostrar alunmnos colegio\")\n",
    "    print(\"3. Mostrar alumnos aula\")\n",
    "    print(\"4. Buscar alunmo\")\n",
    "    print(\"5. Salir\")\n",
    "    \n",
    "    opcion = int(input(\"\\nSeleccione una opcion\"))\n",
    "    \n",
    "    if opcion==1:\n",
    "        print(\"Insertar alumno -\")\n",
    "        aulas = [1,2,3]\n",
    "alumnos = []\n",
    "opcion = 0\n",
    "while (not opcion==5):\n",
    "    print(\"1. Insertar alumno\")\n",
    "    print(\"2. Mostrar alunmnos colegio\")\n",
    "    print(\"3. Mostrar alumnos aula\")\n",
    "    print(\"4. Buscar alunmo\")\n",
    "    print(\"5. Salir\")\n",
    "    \n",
    "    opcion = int(input(\"\\nSeleccione una opcion\"))\n",
    "    \n",
    "    if opcion==1:\n",
    "    # En que aula quieres meter al alumno (1,2,3) --> DNI, Nombre, Apellidos\n",
    "        print(\"Insertar alumno \")\n",
    "        dni = input(\"Inserta el DNI del alumno\")\n",
    "        nombre = input(\"Inserta el nombre del alumno\")\n",
    "        apellidos = input(\"Inserta el apellidos del alumno\")\n",
    "        alumno = {\"DNI\": dni, \"Nombre\" : nombre, \"Apellidos\" : apellidos}\n",
    "        alumnos.append(alumno)\n",
    "\n",
    "        print(alumnos)\n",
    "\n",
    "    elif opcion==2:\n",
    "    #Todos los alumnos del colegio por aula.\n",
    "        print(\"Mostrar alunmnos colegio \")\n",
    "    elif opcion==3:\n",
    "    #De que aula quiere mostrar los alumnos (1,2,3)\n",
    "        print(\"Mostrar alumnos aula \")\n",
    "    elif opcion==4:\n",
    "    #En que aula se encuentra el alumno ese DNI\n",
    "        print(\"Buscar alunmo\")\n",
    "    elif opcion==5:\n",
    "        print(\"Adios\")\n",
    "    else:\n",
    "        print(\"Opcion incorrecta, vuelve a intentarlo\")\n",
    "    elif opcion==2:\n",
    "        print(\"Mostrar alunmnos colegio \")\n",
    "    elif opcion==3:\n",
    "        print(\"Mostrar alumnos aula \")\n",
    "    elif opcion==4:\n",
    "        print(\"Buscar alunmo\")\n",
    "    elif opcion==5:\n",
    "        print(\"4. Adios!!!\")\n",
    "    else:\n",
    "        print(\"Opcion incorrecta, vuelve a intentarlo\")\n",
    "    \n",
    "    "
   ]
  },
  {
   "cell_type": "code",
   "execution_count": null,
   "id": "8b84f1ac-a11f-47d1-ae91-f76c01f9868e",
   "metadata": {},
   "outputs": [],
   "source": []
  }
 ],
 "metadata": {
  "kernelspec": {
   "display_name": "Python 3 (ipykernel)",
   "language": "python",
   "name": "python3"
  },
  "language_info": {
   "codemirror_mode": {
    "name": "ipython",
    "version": 3
   },
   "file_extension": ".py",
   "mimetype": "text/x-python",
   "name": "python",
   "nbconvert_exporter": "python",
   "pygments_lexer": "ipython3",
   "version": "3.9.13"
  }
 },
 "nbformat": 4,
 "nbformat_minor": 5
}
